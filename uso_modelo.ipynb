{
  "nbformat": 4,
  "nbformat_minor": 0,
  "metadata": {
    "colab": {
      "provenance": [],
      "authorship_tag": "ABX9TyOx7EHs5NU6bqjGYj0c4Wr2",
      "include_colab_link": true
    },
    "kernelspec": {
      "name": "python3",
      "display_name": "Python 3"
    },
    "language_info": {
      "name": "python"
    }
  },
  "cells": [
    {
      "cell_type": "markdown",
      "metadata": {
        "id": "view-in-github",
        "colab_type": "text"
      },
      "source": [
        "<a href=\"https://colab.research.google.com/github/mafer2871/TelecomChallenge-2P/blob/main/uso_modelo.ipynb\" target=\"_parent\"><img src=\"https://colab.research.google.com/assets/colab-badge.svg\" alt=\"Open In Colab\"/></a>"
      ]
    },
    {
      "cell_type": "code",
      "execution_count": null,
      "metadata": {
        "id": "XfDoqsfA0ZEo"
      },
      "outputs": [],
      "source": [
        "import joblib\n",
        "import pandas as pd\n",
        "\n",
        "# Cargar el modelo guardado\n",
        "modelo_final = joblib.load('resultados/modelos/mejor_modelo.pkl')\n",
        "\n",
        "# Cargar nuevos datos para predecir (ejemplo)\n",
        "# Asegúrate de que los datos tienen el mismo formato que los de entrenamiento\n",
        "nuevos_clientes = pd.read_csv('ruta/a/nuevos_datos.csv')\n",
        "\n",
        "# Realizar predicciones\n",
        "predicciones = modelo_final.predict(nuevos_clientes)\n",
        "probabilidades = modelo_final.predict_proba(nuevos_clientes)[:, 1]\n",
        "\n",
        "# Crear un DataFrame con los resultados\n",
        "resultados = nuevos_clientes.copy()\n",
        "resultados['prediccion_cancelacion'] = predicciones\n",
        "resultados['probabilidad_cancelacion'] = probabilidades\n",
        "\n",
        "print(resultados[['CustomerID', 'prediccion_cancelacion', 'probabilidad_cancelacion']].head())"
      ]
    }
  ]
}